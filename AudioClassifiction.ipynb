{
 "cells": [
  {
   "cell_type": "markdown",
   "id": "f4f1c755-4b66-43ed-a2df-9b84aa04048f",
   "metadata": {},
   "source": [
    "## 1. Import and Install Dependencies"
   ]
  },
  {
   "cell_type": "code",
   "execution_count": 3,
   "id": "d9f81f2c-723f-4fcc-a57c-9397b7847592",
   "metadata": {
    "jupyter": {
     "source_hidden": true
    },
    "tags": []
   },
   "outputs": [],
   "source": [
    "# Enable Auto-complete\n",
    "%config Completer.use_jedi = False"
   ]
  },
  {
   "cell_type": "markdown",
   "id": "7814686b-8fc8-41be-8a68-1305ce896eac",
   "metadata": {
    "tags": []
   },
   "source": [
    "### 1.1 Install Dependencies"
   ]
  },
  {
   "cell_type": "code",
   "execution_count": 1,
   "id": "de1e81a2-b7a8-4ea0-9534-af9ed41ab0b6",
   "metadata": {
    "collapsed": true,
    "jupyter": {
     "outputs_hidden": true
    },
    "tags": []
   },
   "outputs": [
    {
     "name": "stdout",
     "output_type": "stream",
     "text": [
      "Requirement already satisfied: tensorflow in c:\\users\\user\\appdata\\roaming\\python\\python39\\site-packages (2.8.0)\n"
     ]
    },
    {
     "name": "stderr",
     "output_type": "stream",
     "text": [
      "ERROR: Could not find a version that satisfies the requirement tensorflow-gpu (from versions: none)\n",
      "ERROR: No matching distribution found for tensorflow-gpu\n"
     ]
    }
   ],
   "source": [
    "!pip install tensorflow tensorflow-gpu tensorflow-io matplotlib"
   ]
  },
  {
   "cell_type": "markdown",
   "id": "82faa8c5-5371-409f-b890-2d6ff8227f31",
   "metadata": {},
   "source": [
    "### 1.2 Load Dependencies"
   ]
  },
  {
   "cell_type": "code",
   "execution_count": 2,
   "id": "268a64c4-ec32-43a7-83e7-fbf1fbca2f24",
   "metadata": {},
   "outputs": [],
   "source": [
    "import os\n",
    "from matplotlib import pyplot as plt\n",
    "import tensorflow as tf\n",
    "import tensorflow_io as tfio"
   ]
  },
  {
   "cell_type": "markdown",
   "id": "9aee854b-affc-41af-ad32-0837e6f8fbc0",
   "metadata": {},
   "source": [
    "### 2. Build Data Loading Function"
   ]
  },
  {
   "cell_type": "markdown",
   "id": "c0eb530d-b1cf-4575-85ba-778da360cb60",
   "metadata": {},
   "source": [
    "#### 2.1 Define Paths to Files"
   ]
  },
  {
   "cell_type": "code",
   "execution_count": 4,
   "id": "06ea78b8-1a8b-4335-b072-a84b93a2e07f",
   "metadata": {},
   "outputs": [],
   "source": [
    "CAPUCHIN_FILE = os.path.join('data', 'Parsed_Capuchinbird_Clips', 'XC3776-3.wav')\n",
    "NOT_CAPUCHIN_FILE = os.path.join('data', 'Parsed_Not_Capuchinbird_Clips', 'afternoon-birds-song-in-forest-0.wav')"
   ]
  },
  {
   "cell_type": "code",
   "execution_count": 5,
   "id": "cef98700-cec0-43f0-a1dd-6d5bbb5643f6",
   "metadata": {
    "collapsed": true,
    "jupyter": {
     "outputs_hidden": true
    },
    "tags": []
   },
   "outputs": [
    {
     "data": {
      "text/plain": [
       "'data\\\\Parsed_Capuchinbird_Clips\\\\XC3776-3.wav'"
      ]
     },
     "execution_count": 5,
     "metadata": {},
     "output_type": "execute_result"
    }
   ],
   "source": [
    "CAPUCHIN_FILE"
   ]
  },
  {
   "cell_type": "code",
   "execution_count": 6,
   "id": "669b9a59-4aa3-4ce5-8abc-6c5945677497",
   "metadata": {
    "collapsed": true,
    "jupyter": {
     "outputs_hidden": true
    },
    "tags": []
   },
   "outputs": [
    {
     "data": {
      "text/plain": [
       "'data\\\\Parsed_Not_Capuchinbird_Clips\\\\afternoon-birds-song-in-forest-0.wav'"
      ]
     },
     "execution_count": 6,
     "metadata": {},
     "output_type": "execute_result"
    }
   ],
   "source": [
    "NOT_CAPUCHIN_FILE"
   ]
  },
  {
   "cell_type": "markdown",
   "id": "3168d20e-b354-49ae-8607-ff09e3347a5f",
   "metadata": {},
   "source": [
    "#### 2.2 Build Dataloading Function"
   ]
  },
  {
   "cell_type": "code",
   "execution_count": 7,
   "id": "31b3cf15-d5c4-491e-bbcf-43656a5cabd0",
   "metadata": {},
   "outputs": [],
   "source": [
    "def load_wav_16k_mono(filename):\n",
    "    # Load encoded wav file\n",
    "    file_contents = tf.io.read_file(filename)\n",
    "    # Decode wav (tensors by channels)\n",
    "    wav, sample_rate = tf.audio.decode_wavcode(file_contents, desired_channels=1)\n",
    "    # Removes trailing axis\n",
    "    wav = tf.squeeze(wav, axis=-1)\n",
    "    sample_rate = tf.cast(sample_rate, dtype=tf.int64)\n",
    "    # Goes from 44100Hz to 16000Hz - amplitude of the audio signal\n",
    "    wav = tfio.audio.resample(wav, rate_in = sample_rate, rate_out = 16000)\n",
    "    return wav"
   ]
  },
  {
   "cell_type": "markdown",
   "id": "58cc24fd-7edb-4437-9462-b989b09dd741",
   "metadata": {},
   "source": [
    "#### 2.3 Plot Wave"
   ]
  },
  {
   "cell_type": "code",
   "execution_count": 11,
   "id": "0c689f4f-7ef1-41e9-9fd4-e821b3f01376",
   "metadata": {
    "tags": []
   },
   "outputs": [
    {
     "ename": "AttributeError",
     "evalue": "module 'tensorflow._api.v2.audio' has no attribute 'decode_wavcode'",
     "output_type": "error",
     "traceback": [
      "\u001b[1;31m---------------------------------------------------------------------------\u001b[0m",
      "\u001b[1;31mAttributeError\u001b[0m                            Traceback (most recent call last)",
      "Input \u001b[1;32mIn [11]\u001b[0m, in \u001b[0;36m<cell line: 1>\u001b[1;34m()\u001b[0m\n\u001b[1;32m----> 1\u001b[0m wave \u001b[38;5;241m=\u001b[39m \u001b[43mload_wav_16k_mono\u001b[49m\u001b[43m(\u001b[49m\u001b[43mCAPUCHIN_FILE\u001b[49m\u001b[43m)\u001b[49m\n\u001b[0;32m      2\u001b[0m nwave \u001b[38;5;241m=\u001b[39m load_wav_16k_mono(NOT_CAPUCHIN_FILE)\n",
      "Input \u001b[1;32mIn [7]\u001b[0m, in \u001b[0;36mload_wav_16k_mono\u001b[1;34m(filename)\u001b[0m\n\u001b[0;32m      3\u001b[0m file_contents \u001b[38;5;241m=\u001b[39m tf\u001b[38;5;241m.\u001b[39mio\u001b[38;5;241m.\u001b[39mread_file(filename)\n\u001b[0;32m      4\u001b[0m \u001b[38;5;66;03m# Decode wav (tensors by channels)\u001b[39;00m\n\u001b[1;32m----> 5\u001b[0m wav, sample_rate \u001b[38;5;241m=\u001b[39m \u001b[43mtf\u001b[49m\u001b[38;5;241;43m.\u001b[39;49m\u001b[43maudio\u001b[49m\u001b[38;5;241;43m.\u001b[39;49m\u001b[43mdecode_wavcode\u001b[49m(file_contents, desired_channels\u001b[38;5;241m=\u001b[39m\u001b[38;5;241m1\u001b[39m)\n\u001b[0;32m      6\u001b[0m \u001b[38;5;66;03m# Removes trailing axis\u001b[39;00m\n\u001b[0;32m      7\u001b[0m wav \u001b[38;5;241m=\u001b[39m tf\u001b[38;5;241m.\u001b[39msqueeze(wav, axis\u001b[38;5;241m=\u001b[39m\u001b[38;5;241m-\u001b[39m\u001b[38;5;241m1\u001b[39m)\n",
      "\u001b[1;31mAttributeError\u001b[0m: module 'tensorflow._api.v2.audio' has no attribute 'decode_wavcode'"
     ]
    }
   ],
   "source": [
    "wave = load_wav_16k_mono(CAPUCHIN_FILE)\n",
    "nwave = load_wav_16k_mono(NOT_CAPUCHIN_FILE)"
   ]
  },
  {
   "cell_type": "code",
   "execution_count": 10,
   "id": "9896e0ed-a5f0-400f-be04-c3a5a9bc9ca1",
   "metadata": {},
   "outputs": [
    {
     "ename": "NameError",
     "evalue": "name 'wav' is not defined",
     "output_type": "error",
     "traceback": [
      "\u001b[1;31m---------------------------------------------------------------------------\u001b[0m",
      "\u001b[1;31mNameError\u001b[0m                                 Traceback (most recent call last)",
      "Input \u001b[1;32mIn [10]\u001b[0m, in \u001b[0;36m<cell line: 1>\u001b[1;34m()\u001b[0m\n\u001b[1;32m----> 1\u001b[0m plt\u001b[38;5;241m.\u001b[39mplot(\u001b[43mwav\u001b[49m)\n\u001b[0;32m      2\u001b[0m plt\u001b[38;5;241m.\u001b[39mplot(nwav)\n\u001b[0;32m      3\u001b[0m plt\u001b[38;5;241m.\u001b[39mshow()\n",
      "\u001b[1;31mNameError\u001b[0m: name 'wav' is not defined"
     ]
    }
   ],
   "source": [
    "plt.plot(wave)\n",
    "plt.plot(nwave)\n",
    "plt.show()"
   ]
  },
  {
   "cell_type": "code",
   "execution_count": null,
   "id": "294c822a-bdc5-476f-92ef-2b49610dfed8",
   "metadata": {},
   "outputs": [],
   "source": []
  }
 ],
 "metadata": {
  "kernelspec": {
   "display_name": "audioc",
   "language": "python",
   "name": "audioc"
  },
  "language_info": {
   "codemirror_mode": {
    "name": "ipython",
    "version": 3
   },
   "file_extension": ".py",
   "mimetype": "text/x-python",
   "name": "python",
   "nbconvert_exporter": "python",
   "pygments_lexer": "ipython3",
   "version": "3.9.7"
  }
 },
 "nbformat": 4,
 "nbformat_minor": 5
}
